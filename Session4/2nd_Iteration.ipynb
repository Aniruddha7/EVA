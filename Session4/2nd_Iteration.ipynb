{
  "nbformat": 4,
  "nbformat_minor": 0,
  "metadata": {
    "colab": {
      "name": "2nd Iteration.ipynb",
      "version": "0.3.2",
      "provenance": [],
      "collapsed_sections": []
    },
    "kernelspec": {
      "name": "python3",
      "display_name": "Python 3"
    },
    "accelerator": "GPU"
  },
  "cells": [
    {
      "cell_type": "markdown",
      "metadata": {
        "id": "P2_GcoSJfi9A",
        "colab_type": "text"
      },
      "source": [
        "In the second Iteration we apply max pooling layer after the Recptive field reaches 22x22 since the kernels can predict the edges and gradiesnts at the resolution of 11x11 and we also apply another MP layers to reduce the number of Convolution layers in the architecture and run it for 15 epochs. Here we can see that the code is performing well at accuracy 99.27 as compared to 1st iteration (98.8 at 15th epoch and 99.01 at 30th epoch) but still we can't consider this one as the optimized architecture since it is consuming 227,546 parameters which is huge. In the upcoming models we need to concentrate on both test accuracy and the number of parameters."
      ]
    },
    {
      "cell_type": "code",
      "metadata": {
        "id": "Nf-mxTkUkxLe",
        "colab_type": "code",
        "colab": {
          "base_uri": "https://localhost:8080/",
          "height": 470
        },
        "outputId": "604ac48e-b4b4-4c26-f8e3-fe87134720e2"
      },
      "source": [
        "# https://keras.io/\n",
        "!pip install -q keras\n",
        "import keras\n",
        "import numpy as np\n",
        "\n",
        "from keras.models import Sequential\n",
        "from keras.layers import Dense, Dropout, Activation, Flatten, Add\n",
        "from keras.layers import Convolution2D, MaxPooling2D\n",
        "from keras.utils import np_utils\n",
        "\n",
        "from keras.datasets import mnist\n",
        "(X_train, y_train), (X_test, y_test) = mnist.load_data()\n",
        "print (X_train.shape)\n",
        "from matplotlib import pyplot as plt\n",
        "%matplotlib inline\n",
        "plt.imshow(X_train[0])\n",
        "X_train = X_train.reshape(X_train.shape[0], 28, 28,1)\n",
        "X_test = X_test.reshape(X_test.shape[0], 28, 28,1)\n",
        "X_train = X_train.astype('float32')\n",
        "X_test = X_test.astype('float32')\n",
        "X_train /= 255\n",
        "X_test /= 255\n",
        "y_train[:10]\n",
        "# Convert 1-dimensional class arrays to 10-dimensional class matrices\n",
        "Y_train = np_utils.to_categorical(y_train, 10)\n",
        "Y_test = np_utils.to_categorical(y_test, 10)\n",
        "Y_train[:10]\n"
      ],
      "execution_count": 1,
      "outputs": [
        {
          "output_type": "stream",
          "text": [
            "Using TensorFlow backend.\n"
          ],
          "name": "stderr"
        },
        {
          "output_type": "stream",
          "text": [
            "(60000, 28, 28)\n"
          ],
          "name": "stdout"
        },
        {
          "output_type": "execute_result",
          "data": {
            "text/plain": [
              "array([[0., 0., 0., 0., 0., 1., 0., 0., 0., 0.],\n",
              "       [1., 0., 0., 0., 0., 0., 0., 0., 0., 0.],\n",
              "       [0., 0., 0., 0., 1., 0., 0., 0., 0., 0.],\n",
              "       [0., 1., 0., 0., 0., 0., 0., 0., 0., 0.],\n",
              "       [0., 0., 0., 0., 0., 0., 0., 0., 0., 1.],\n",
              "       [0., 0., 1., 0., 0., 0., 0., 0., 0., 0.],\n",
              "       [0., 1., 0., 0., 0., 0., 0., 0., 0., 0.],\n",
              "       [0., 0., 0., 1., 0., 0., 0., 0., 0., 0.],\n",
              "       [0., 1., 0., 0., 0., 0., 0., 0., 0., 0.],\n",
              "       [0., 0., 0., 0., 1., 0., 0., 0., 0., 0.]], dtype=float32)"
            ]
          },
          "metadata": {
            "tags": []
          },
          "execution_count": 1
        },
        {
          "output_type": "display_data",
          "data": {
            "image/png": "[encoded data removed]",
            "text/plain": [
              "<Figure size 432x288 with 1 Axes>"
            ]
          },
          "metadata": {
            "tags": []
          }
        }
      ]
    },
    {
      "cell_type": "code",
      "metadata": {
        "id": "4R2xORgak814",
        "colab_type": "code",
        "colab": {
          "base_uri": "https://localhost:8080/",
          "height": 608
        },
        "outputId": "9a3ac714-fd36-42c8-eba6-a0320c66434a"
      },
      "source": [
        "from keras.layers import Activation\n",
        "model = Sequential()\n",
        "\n",
        "model.add(Convolution2D(32, 3, 3, activation='relu', input_shape=(28,28,1)))     \n",
        "model.add(Convolution2D(64, 3, activation='relu'))\n",
        "model.add(Convolution2D(128, 3, activation='relu'))\n",
        "model.add(MaxPooling2D(2,2))\n",
        "model.add(Convolution2D(64, 3, activation='relu'))\n",
        "model.add(Convolution2D(128, 3, activation='relu'))\n",
        "model.add(MaxPooling2D(2,2))\n",
        "model.add(Convolution2D(32, 3))\n",
        "model.add(Convolution2D(10, 1))\n",
        "\n",
        "model.add(Flatten())\n",
        "model.add(Activation('softmax'))\n",
        "model.summary()\n",
        "model.compile(loss='categorical_crossentropy',\n",
        "             optimizer='adam',\n",
        "             metrics=['accuracy'])"
      ],
      "execution_count": 2,
      "outputs": [
        {
          "output_type": "stream",
          "text": [
            "WARNING:tensorflow:From /usr/local/lib/python3.6/dist-packages/tensorflow/python/framework/op_def_library.py:263: colocate_with (from tensorflow.python.framework.ops) is deprecated and will be removed in a future version.\n",
            "Instructions for updating:\n",
            "Colocations handled automatically by placer.\n"
          ],
          "name": "stdout"
        },
        {
          "output_type": "stream",
          "text": [
            "/usr/local/lib/python3.6/dist-packages/ipykernel_launcher.py:4: UserWarning: Update your `Conv2D` call to the Keras 2 API: `Conv2D(32, (3, 3), activation=\"relu\", input_shape=(28, 28, 1...)`\n",
            "  after removing the cwd from sys.path.\n"
          ],
          "name": "stderr"
        },
        {
          "output_type": "stream",
          "text": [
            "_________________________________________________________________\n",
            "Layer (type)                 Output Shape              Param #   \n",
            "=================================================================\n",
            "conv2d_1 (Conv2D)            (None, 26, 26, 32)        320       \n",
            "_________________________________________________________________\n",
            "conv2d_2 (Conv2D)            (None, 24, 24, 64)        18496     \n",
            "_________________________________________________________________\n",
            "conv2d_3 (Conv2D)            (None, 22, 22, 128)       73856     \n",
            "_________________________________________________________________\n",
            "max_pooling2d_1 (MaxPooling2 (None, 11, 11, 128)       0         \n",
            "_________________________________________________________________\n",
            "conv2d_4 (Conv2D)            (None, 9, 9, 64)          73792     \n",
            "_________________________________________________________________\n",
            "conv2d_5 (Conv2D)            (None, 7, 7, 128)         73856     \n",
            "_________________________________________________________________\n",
            "max_pooling2d_2 (MaxPooling2 (None, 3, 3, 128)         0         \n",
            "_________________________________________________________________\n",
            "conv2d_6 (Conv2D)            (None, 1, 1, 32)          36896     \n",
            "_________________________________________________________________\n",
            "conv2d_7 (Conv2D)            (None, 1, 1, 10)          330       \n",
            "_________________________________________________________________\n",
            "flatten_1 (Flatten)          (None, 10)                0         \n",
            "_________________________________________________________________\n",
            "activation_1 (Activation)    (None, 10)                0         \n",
            "=================================================================\n",
            "Total params: 277,546\n",
            "Trainable params: 277,546\n",
            "Non-trainable params: 0\n",
            "_________________________________________________________________\n"
          ],
          "name": "stdout"
        }
      ]
    },
    {
      "cell_type": "code",
      "metadata": {
        "id": "tFjA8FX5lCC-",
        "colab_type": "code",
        "colab": {
          "base_uri": "https://localhost:8080/",
          "height": 608
        },
        "outputId": "aa19e068-8395-4cfc-9968-289af8741562"
      },
      "source": [
        "model.fit(X_train, Y_train, batch_size=32, nb_epoch=15, verbose=1, validation_data=(X_test, Y_test))"
      ],
      "execution_count": 5,
      "outputs": [
        {
          "output_type": "stream",
          "text": [
            "Train on 60000 samples, validate on 10000 samples\n",
            "Epoch 1/15\n",
            "  608/60000 [..............................] - ETA: 18s - loss: 0.0034 - acc: 0.9967"
          ],
          "name": "stdout"
        },
        {
          "output_type": "stream",
          "text": [
            "/usr/local/lib/python3.6/dist-packages/ipykernel_launcher.py:1: UserWarning: The `nb_epoch` argument in `fit` has been renamed `epochs`.\n",
            "  \"\"\"Entry point for launching an IPython kernel.\n"
          ],
          "name": "stderr"
        },
        {
          "output_type": "stream",
          "text": [
            "60000/60000 [==============================] - 14s 232us/step - loss: 0.0084 - acc: 0.9979 - val_loss: 0.0534 - val_acc: 0.9914\n",
            "Epoch 2/15\n",
            "60000/60000 [==============================] - 14s 230us/step - loss: 0.0047 - acc: 0.9989 - val_loss: 0.0447 - val_acc: 0.9919\n",
            "Epoch 3/15\n",
            "60000/60000 [==============================] - 14s 230us/step - loss: 0.0058 - acc: 0.9986 - val_loss: 0.0506 - val_acc: 0.9926\n",
            "Epoch 4/15\n",
            "60000/60000 [==============================] - 14s 229us/step - loss: 0.0063 - acc: 0.9984 - val_loss: 0.0477 - val_acc: 0.9929\n",
            "Epoch 5/15\n",
            "60000/60000 [==============================] - 15s 243us/step - loss: 0.0077 - acc: 0.9983 - val_loss: 0.0449 - val_acc: 0.9927\n",
            "Epoch 6/15\n",
            "60000/60000 [==============================] - 14s 232us/step - loss: 0.0064 - acc: 0.9987 - val_loss: 0.0626 - val_acc: 0.9902\n",
            "Epoch 7/15\n",
            "60000/60000 [==============================] - 14s 229us/step - loss: 0.0066 - acc: 0.9985 - val_loss: 0.0500 - val_acc: 0.9929\n",
            "Epoch 8/15\n",
            "60000/60000 [==============================] - 14s 229us/step - loss: 0.0090 - acc: 0.9981 - val_loss: 0.0526 - val_acc: 0.9929\n",
            "Epoch 9/15\n",
            "60000/60000 [==============================] - 14s 229us/step - loss: 0.0053 - acc: 0.9988 - val_loss: 0.0849 - val_acc: 0.9884\n",
            "Epoch 10/15\n",
            "60000/60000 [==============================] - 14s 229us/step - loss: 0.0067 - acc: 0.9986 - val_loss: 0.0594 - val_acc: 0.9922\n",
            "Epoch 11/15\n",
            "60000/60000 [==============================] - 14s 237us/step - loss: 0.0057 - acc: 0.9987 - val_loss: 0.0538 - val_acc: 0.9932\n",
            "Epoch 12/15\n",
            "60000/60000 [==============================] - 14s 229us/step - loss: 0.0054 - acc: 0.9988 - val_loss: 0.0556 - val_acc: 0.9917\n",
            "Epoch 13/15\n",
            "60000/60000 [==============================] - 14s 228us/step - loss: 0.0071 - acc: 0.9987 - val_loss: 0.0647 - val_acc: 0.9901\n",
            "Epoch 14/15\n",
            "60000/60000 [==============================] - 14s 228us/step - loss: 0.0055 - acc: 0.9988 - val_loss: 0.0717 - val_acc: 0.9908\n",
            "Epoch 15/15\n",
            "60000/60000 [==============================] - 14s 235us/step - loss: 0.0063 - acc: 0.9988 - val_loss: 0.0493 - val_acc: 0.9927\n"
          ],
          "name": "stdout"
        },
        {
          "output_type": "execute_result",
          "data": {
            "text/plain": [
              "<keras.callbacks.History at 0x7f5d95e404a8>"
            ]
          },
          "metadata": {
            "tags": []
          },
          "execution_count": 5
        }
      ]
    },
    {
      "cell_type": "code",
      "metadata": {
        "id": "PtH4gt18lMic",
        "colab_type": "code",
        "colab": {
          "base_uri": "https://localhost:8080/",
          "height": 34
        },
        "outputId": "f5e250af-bcef-4643-e2af-9a70fcd4f631"
      },
      "source": [
        "score = model.evaluate(X_test, Y_test, verbose=0)\n",
        "print(score)"
      ],
      "execution_count": 6,
      "outputs": [
        {
          "output_type": "stream",
          "text": [
            "[0.04934936067415681, 0.9927]\n"
          ],
          "name": "stdout"
        }
      ]
    },
    {
      "cell_type": "code",
      "metadata": {
        "id": "UKJwAUialOoF",
        "colab_type": "code",
        "colab": {
          "base_uri": "https://localhost:8080/",
          "height": 336
        },
        "outputId": "b7a92731-e1ea-44d9-c494-f635482a23d7"
      },
      "source": [
        "print(y_pred[:9])\n",
        "print(y_test[:9])"
      ],
      "execution_count": 8,
      "outputs": [
        {
          "output_type": "stream",
          "text": [
            "[[4.2096090e-16 4.5853329e-20 1.0566038e-18 1.8971029e-14 7.5327556e-29\n",
            "  3.2298581e-25 2.6177810e-28 1.0000000e+00 1.9340221e-25 8.7780135e-20]\n",
            " [5.8638784e-28 5.3313477e-28 1.0000000e+00 2.7707117e-37 1.5647307e-34\n",
            "  0.0000000e+00 1.6483850e-26 1.4796759e-37 8.6138503e-27 0.0000000e+00]\n",
            " [5.9838656e-14 1.0000000e+00 1.3899510e-13 1.3208115e-18 5.9558103e-10\n",
            "  2.3288066e-15 3.8601521e-14 2.7730616e-09 7.4445734e-13 1.2956912e-12]\n",
            " [1.0000000e+00 2.1880362e-23 3.2305969e-18 5.7434759e-25 4.1729210e-21\n",
            "  1.8981057e-25 2.1255948e-14 1.3640790e-20 1.2591664e-22 1.1368075e-14]\n",
            " [0.0000000e+00 4.8507978e-23 1.7307722e-32 1.4312217e-37 1.0000000e+00\n",
            "  1.9984219e-34 1.7258860e-33 6.0524343e-23 1.0716932e-24 1.7594230e-10]\n",
            " [6.0445880e-16 1.0000000e+00 2.5313411e-11 6.6040668e-19 1.6230467e-10\n",
            "  1.9484850e-17 9.1441620e-15 2.5707295e-10 1.8002989e-13 2.6340963e-15]\n",
            " [5.3432433e-26 1.6729647e-18 1.9845591e-25 3.1172356e-32 1.0000000e+00\n",
            "  3.9669361e-31 9.7929324e-32 1.9966007e-19 2.1093650e-16 3.3970708e-19]\n",
            " [0.0000000e+00 2.5428746e-32 2.4377788e-36 6.2974779e-37 1.3253651e-24\n",
            "  7.0071666e-38 0.0000000e+00 7.2222809e-34 8.1016573e-28 1.0000000e+00]\n",
            " [1.8891153e-21 8.4253450e-22 6.6087072e-17 1.5383143e-21 4.2605428e-32\n",
            "  8.8201341e-05 9.9991179e-01 9.5565652e-30 3.3909643e-08 5.8775636e-34]]\n",
            "[7 2 1 0 4 1 4 9 5]\n"
          ],
          "name": "stdout"
        }
      ]
    }
  ]
}
