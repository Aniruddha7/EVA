{
  "nbformat": 4,
  "nbformat_minor": 0,
  "metadata": {
    "colab": {
      "name": "3rd Iteration.ipynb",
      "version": "0.3.2",
      "provenance": [],
      "collapsed_sections": []
    },
    "kernelspec": {
      "name": "python3",
      "display_name": "Python 3"
    },
    "accelerator": "GPU"
  },
  "cells": [
    {
      "cell_type": "markdown",
      "metadata": {
        "id": "npGwctU0jYM-",
        "colab_type": "text"
      },
      "source": [
        "This is the 3rd iteration of the code where we use less number of parameters compared to previous examples and also try to achive more test accuracy. Here we see that Batchnormalization is used and this is because the after some training  using the activation function, only positive vaules of the textures, gradients are passed through the layers but to gain more accuracy we also need the minor details in kernels. This can be done using BatchNormalization where it equalizes the whole kernel and higlights the minute edges and textures which help in getting more accuracy. Batchnormalization can be used either before Maxpooling or after it."
      ]
    },
    {
      "cell_type": "code",
      "metadata": {
        "id": "lmNklElg1Rll",
        "colab_type": "code",
        "colab": {
          "base_uri": "https://localhost:8080/",
          "height": 454
        },
        "outputId": "ff5745b0-ba01-4aac-c704-21be720c5fe4"
      },
      "source": [
        "# https://keras.io/\n",
        "!pip install -q keras\n",
        "import keras\n",
        "import numpy as np\n",
        "\n",
        "from keras.models import Sequential\n",
        "from keras.layers import Dense, Dropout, Activation, Flatten, Add, BatchNormalization\n",
        "from keras.layers import Convolution2D, MaxPooling2D\n",
        "from keras.utils import np_utils\n",
        "\n",
        "from keras.datasets import mnist\n",
        "(X_train, y_train), (X_test, y_test) = mnist.load_data()\n",
        "print (X_train.shape)\n",
        "from matplotlib import pyplot as plt\n",
        "%matplotlib inline\n",
        "plt.imshow(X_train[0])\n",
        "X_train = X_train.reshape(X_train.shape[0], 28, 28,1)\n",
        "X_test = X_test.reshape(X_test.shape[0], 28, 28,1)\n",
        "X_train = X_train.astype('float32')\n",
        "X_test = X_test.astype('float32')\n",
        "X_train /= 255\n",
        "X_test /= 255\n",
        "y_train[:10]\n",
        "# Convert 1-dimensional class arrays to 10-dimensional class matrices\n",
        "Y_train = np_utils.to_categorical(y_train, 10)\n",
        "Y_test = np_utils.to_categorical(y_test, 10)\n",
        "Y_train[:10]\n"
      ],
      "execution_count": 21,
      "outputs": [
        {
          "output_type": "stream",
          "text": [
            "(60000, 28, 28)\n"
          ],
          "name": "stdout"
        },
        {
          "output_type": "execute_result",
          "data": {
            "text/plain": [
              "array([[0., 0., 0., 0., 0., 1., 0., 0., 0., 0.],\n",
              "       [1., 0., 0., 0., 0., 0., 0., 0., 0., 0.],\n",
              "       [0., 0., 0., 0., 1., 0., 0., 0., 0., 0.],\n",
              "       [0., 1., 0., 0., 0., 0., 0., 0., 0., 0.],\n",
              "       [0., 0., 0., 0., 0., 0., 0., 0., 0., 1.],\n",
              "       [0., 0., 1., 0., 0., 0., 0., 0., 0., 0.],\n",
              "       [0., 1., 0., 0., 0., 0., 0., 0., 0., 0.],\n",
              "       [0., 0., 0., 1., 0., 0., 0., 0., 0., 0.],\n",
              "       [0., 1., 0., 0., 0., 0., 0., 0., 0., 0.],\n",
              "       [0., 0., 0., 0., 1., 0., 0., 0., 0., 0.]], dtype=float32)"
            ]
          },
          "metadata": {
            "tags": []
          },
          "execution_count": 21
        },
        {
          "output_type": "display_data",
          "data": {
            "image/png": "[encoded data removed]",
            "text/plain": [
              "<Figure size 432x288 with 1 Axes>"
            ]
          },
          "metadata": {
            "tags": []
          }
        }
      ]
    },
    {
      "cell_type": "code",
      "metadata": {
        "id": "8WnLOQrI1bIB",
        "colab_type": "code",
        "colab": {
          "base_uri": "https://localhost:8080/",
          "height": 759
        },
        "outputId": "537c3ecc-af4a-40c9-9b66-9c1b031eb30d"
      },
      "source": [
        "from keras.layers import Activation\n",
        "model = Sequential()\n",
        "\n",
        "model.add(Convolution2D(8, 3, 3, activation='relu', input_shape=(28,28,1)))\n",
        "model.add(BatchNormalization())\n",
        "model.add(Convolution2D(16, 3, activation='relu'))\n",
        "model.add(BatchNormalization())\n",
        "model.add(Convolution2D(32, 3, activation='relu'))\n",
        "model.add(BatchNormalization())\n",
        "model.add(MaxPooling2D(2,2))\n",
        "model.add(Convolution2D(16, 3, activation='relu'))\n",
        "model.add(BatchNormalization())\n",
        "model.add(Convolution2D(32, 3, activation='relu'))\n",
        "model.add(BatchNormalization())\n",
        "model.add(MaxPooling2D(2,2))\n",
        "model.add(Convolution2D(32, 3))\n",
        "model.add(BatchNormalization())\n",
        "model.add(Convolution2D(10, 1))\n",
        "\n",
        "model.add(Flatten())\n",
        "model.add(Activation('softmax'))\n",
        "model.summary()\n",
        "model.compile(loss='categorical_crossentropy',\n",
        "             optimizer='Adam',\n",
        "             metrics=['accuracy'])"
      ],
      "execution_count": 30,
      "outputs": [
        {
          "output_type": "stream",
          "text": [
            "/usr/local/lib/python3.6/dist-packages/ipykernel_launcher.py:4: UserWarning: Update your `Conv2D` call to the Keras 2 API: `Conv2D(8, (3, 3), activation=\"relu\", input_shape=(28, 28, 1...)`\n",
            "  after removing the cwd from sys.path.\n"
          ],
          "name": "stderr"
        },
        {
          "output_type": "stream",
          "text": [
            "_________________________________________________________________\n",
            "Layer (type)                 Output Shape              Param #   \n",
            "=================================================================\n",
            "conv2d_74 (Conv2D)           (None, 26, 26, 8)         80        \n",
            "_________________________________________________________________\n",
            "batch_normalization_20 (Batc (None, 26, 26, 8)         32        \n",
            "_________________________________________________________________\n",
            "conv2d_75 (Conv2D)           (None, 24, 24, 16)        1168      \n",
            "_________________________________________________________________\n",
            "batch_normalization_21 (Batc (None, 24, 24, 16)        64        \n",
            "_________________________________________________________________\n",
            "conv2d_76 (Conv2D)           (None, 22, 22, 32)        4640      \n",
            "_________________________________________________________________\n",
            "batch_normalization_22 (Batc (None, 22, 22, 32)        128       \n",
            "_________________________________________________________________\n",
            "max_pooling2d_21 (MaxPooling (None, 11, 11, 32)        0         \n",
            "_________________________________________________________________\n",
            "conv2d_77 (Conv2D)           (None, 9, 9, 16)          4624      \n",
            "_________________________________________________________________\n",
            "batch_normalization_23 (Batc (None, 9, 9, 16)          64        \n",
            "_________________________________________________________________\n",
            "conv2d_78 (Conv2D)           (None, 7, 7, 32)          4640      \n",
            "_________________________________________________________________\n",
            "batch_normalization_24 (Batc (None, 7, 7, 32)          128       \n",
            "_________________________________________________________________\n",
            "max_pooling2d_22 (MaxPooling (None, 3, 3, 32)          0         \n",
            "_________________________________________________________________\n",
            "conv2d_79 (Conv2D)           (None, 1, 1, 32)          9248      \n",
            "_________________________________________________________________\n",
            "batch_normalization_25 (Batc (None, 1, 1, 32)          128       \n",
            "_________________________________________________________________\n",
            "conv2d_80 (Conv2D)           (None, 1, 1, 10)          330       \n",
            "_________________________________________________________________\n",
            "flatten_11 (Flatten)         (None, 10)                0         \n",
            "_________________________________________________________________\n",
            "activation_11 (Activation)   (None, 10)                0         \n",
            "=================================================================\n",
            "Total params: 25,274\n",
            "Trainable params: 25,002\n",
            "Non-trainable params: 272\n",
            "_________________________________________________________________\n"
          ],
          "name": "stdout"
        }
      ]
    },
    {
      "cell_type": "code",
      "metadata": {
        "id": "jiFFP0J51dzH",
        "colab_type": "code",
        "colab": {
          "base_uri": "https://localhost:8080/",
          "height": 608
        },
        "outputId": "5ce963c6-5eae-4571-ad8f-3b4fe4d1ff44"
      },
      "source": [
        "model.fit(X_train, Y_train, batch_size=32, nb_epoch=15, verbose=1, validation_data=(X_test, Y_test))"
      ],
      "execution_count": 33,
      "outputs": [
        {
          "output_type": "stream",
          "text": [
            "Train on 60000 samples, validate on 10000 samples\n",
            "Epoch 1/15\n",
            "  544/60000 [..............................] - ETA: 19s - loss: 0.0170 - acc: 0.9945"
          ],
          "name": "stdout"
        },
        {
          "output_type": "stream",
          "text": [
            "/usr/local/lib/python3.6/dist-packages/ipykernel_launcher.py:1: UserWarning: The `nb_epoch` argument in `fit` has been renamed `epochs`.\n",
            "  \"\"\"Entry point for launching an IPython kernel.\n"
          ],
          "name": "stderr"
        },
        {
          "output_type": "stream",
          "text": [
            "60000/60000 [==============================] - 18s 305us/step - loss: 0.0124 - acc: 0.9959 - val_loss: 0.0325 - val_acc: 0.9918\n",
            "Epoch 2/15\n",
            "60000/60000 [==============================] - 18s 308us/step - loss: 0.0137 - acc: 0.9953 - val_loss: 0.0267 - val_acc: 0.9932\n",
            "Epoch 3/15\n",
            "60000/60000 [==============================] - 20s 326us/step - loss: 0.0107 - acc: 0.9965 - val_loss: 0.0307 - val_acc: 0.9904\n",
            "Epoch 4/15\n",
            "60000/60000 [==============================] - 19s 311us/step - loss: 0.0114 - acc: 0.9963 - val_loss: 0.0313 - val_acc: 0.9911\n",
            "Epoch 5/15\n",
            "60000/60000 [==============================] - 19s 311us/step - loss: 0.0099 - acc: 0.9967 - val_loss: 0.0276 - val_acc: 0.9926\n",
            "Epoch 6/15\n",
            "60000/60000 [==============================] - 19s 310us/step - loss: 0.0101 - acc: 0.9965 - val_loss: 0.0267 - val_acc: 0.9922\n",
            "Epoch 7/15\n",
            "60000/60000 [==============================] - 20s 327us/step - loss: 0.0090 - acc: 0.9966 - val_loss: 0.0401 - val_acc: 0.9901\n",
            "Epoch 8/15\n",
            "60000/60000 [==============================] - 18s 305us/step - loss: 0.0086 - acc: 0.9971 - val_loss: 0.0268 - val_acc: 0.9927\n",
            "Epoch 9/15\n",
            "60000/60000 [==============================] - 18s 305us/step - loss: 0.0079 - acc: 0.9974 - val_loss: 0.0280 - val_acc: 0.9926\n",
            "Epoch 10/15\n",
            "60000/60000 [==============================] - 18s 304us/step - loss: 0.0074 - acc: 0.9977 - val_loss: 0.0346 - val_acc: 0.9917\n",
            "Epoch 11/15\n",
            "60000/60000 [==============================] - 19s 315us/step - loss: 0.0082 - acc: 0.9972 - val_loss: 0.0301 - val_acc: 0.9927\n",
            "Epoch 12/15\n",
            "60000/60000 [==============================] - 19s 312us/step - loss: 0.0068 - acc: 0.9976 - val_loss: 0.0368 - val_acc: 0.9907\n",
            "Epoch 13/15\n",
            "60000/60000 [==============================] - 18s 305us/step - loss: 0.0070 - acc: 0.9974 - val_loss: 0.0308 - val_acc: 0.9921\n",
            "Epoch 14/15\n",
            "60000/60000 [==============================] - 20s 331us/step - loss: 0.0065 - acc: 0.9977 - val_loss: 0.0263 - val_acc: 0.9931\n",
            "Epoch 15/15\n",
            "60000/60000 [==============================] - 19s 319us/step - loss: 0.0070 - acc: 0.9977 - val_loss: 0.0289 - val_acc: 0.9934\n"
          ],
          "name": "stdout"
        },
        {
          "output_type": "execute_result",
          "data": {
            "text/plain": [
              "<keras.callbacks.History at 0x7f7d6963a898>"
            ]
          },
          "metadata": {
            "tags": []
          },
          "execution_count": 33
        }
      ]
    },
    {
      "cell_type": "code",
      "metadata": {
        "id": "u7FqmCAp1l-L",
        "colab_type": "code",
        "colab": {
          "base_uri": "https://localhost:8080/",
          "height": 34
        },
        "outputId": "ac074c0f-acde-4b1b-f602-cd5b5d17936d"
      },
      "source": [
        "score = model.evaluate(X_test, Y_test, verbose=0)\n",
        "print(score)"
      ],
      "execution_count": 34,
      "outputs": [
        {
          "output_type": "stream",
          "text": [
            "[0.02886478079548424, 0.9934]\n"
          ],
          "name": "stdout"
        }
      ]
    },
    {
      "cell_type": "code",
      "metadata": {
        "id": "jceQ8SiMQka9",
        "colab_type": "code",
        "colab": {
          "base_uri": "https://localhost:8080/",
          "height": 487
        },
        "outputId": "17fbb322-4254-413f-841a-4a93111f81b7"
      },
      "source": [
        "y_pred = model.predict(X_test)\n",
        "print(y_pred[:9])\n",
        "print(y_test[:9])"
      ],
      "execution_count": 36,
      "outputs": [
        {
          "output_type": "stream",
          "text": [
            "[[8.56398286e-12 6.79081396e-08 3.60653942e-08 7.24941884e-10\n",
            "  7.19854454e-11 4.38039926e-12 7.77130964e-13 9.99999881e-01\n",
            "  7.06904641e-13 4.39961817e-11]\n",
            " [5.83043724e-10 5.84323452e-08 9.99985933e-01 4.01057632e-10\n",
            "  7.58765140e-09 1.75651022e-15 1.40965267e-05 8.11632650e-10\n",
            "  1.39210050e-11 4.21487498e-13]\n",
            " [1.83615848e-11 1.00000000e+00 7.18962260e-12 3.41092172e-14\n",
            "  1.52003192e-08 1.08997433e-09 2.08132803e-10 2.36987674e-09\n",
            "  1.02202101e-11 1.67220491e-11]\n",
            " [9.99998212e-01 1.73062205e-08 1.06613363e-09 8.39307024e-09\n",
            "  7.23524138e-08 6.02434991e-10 1.17211862e-07 1.06016685e-07\n",
            "  6.48085186e-09 1.48897993e-06]\n",
            " [3.71745560e-12 1.54772248e-08 3.56886916e-12 9.45216648e-12\n",
            "  1.00000000e+00 1.13590543e-11 9.32807831e-10 2.77777389e-12\n",
            "  1.91035490e-08 3.28366063e-08]\n",
            " [5.07660580e-12 1.00000000e+00 1.45696530e-12 2.28795458e-14\n",
            "  1.72636139e-09 1.28565275e-11 3.69109639e-11 1.48797605e-08\n",
            "  1.07561713e-12 3.38669648e-10]\n",
            " [1.04498930e-10 8.26197993e-06 2.19633844e-09 4.85961857e-13\n",
            "  9.99988198e-01 3.60767749e-10 5.12550287e-07 1.04726589e-10\n",
            "  1.95380971e-06 1.18995365e-06]\n",
            " [1.07650854e-13 1.34505670e-10 3.15545610e-11 2.82882225e-12\n",
            "  4.26857650e-06 9.27265751e-13 3.28603833e-12 9.00562109e-14\n",
            "  3.94773366e-07 9.99995351e-01]\n",
            " [2.78501611e-10 8.58663807e-10 4.23469385e-11 5.53209123e-09\n",
            "  9.23195778e-14 9.99793231e-01 2.06679630e-04 2.46408428e-15\n",
            "  7.51999636e-08 3.71746141e-11]]\n",
            "[7 2 1 0 4 1 4 9 5]\n"
          ],
          "name": "stdout"
        }
      ]
    }
  ]
}
